{
 "cells": [
  {
   "cell_type": "markdown",
   "metadata": {},
   "source": [
    "# Launch analytics pipeline on tasks without flag\n",
    "\n",
    "In .env\n",
    "\n",
    "```\n",
    "EXTRACTOR_SECRET_KEY=\n",
    "EXTRACTOR_URL=\n",
    "MONGODB_URL=\n",
    "```\n",
    "\n",
    "Later on, in ORGS_TO_PROCESS, put an org id in it. "
   ]
  },
  {
   "cell_type": "code",
   "execution_count": null,
   "metadata": {},
   "outputs": [],
   "source": [
    "# Set current working dir\n",
    "import os\n",
    "from dotenv import load_dotenv\n",
    "\n",
    "# Path with .env\n",
    "os.chdir(\"/Users/nicolasoulianov/phospho/phospho/backend/scripts\")\n",
    "\n",
    "load_dotenv()"
   ]
  },
  {
   "cell_type": "code",
   "execution_count": null,
   "metadata": {},
   "outputs": [],
   "source": [
    "import pymongo\n",
    "\n",
    "# Initialize pymongo client\n",
    "client = pymongo.MongoClient(os.getenv('MONGODB_URL'))\n",
    "db = client[os.getenv('MONGODB_NAME')]"
   ]
  },
  {
   "cell_type": "code",
   "execution_count": null,
   "metadata": {},
   "outputs": [],
   "source": [
    "db.name"
   ]
  },
  {
   "cell_type": "code",
   "execution_count": null,
   "metadata": {},
   "outputs": [],
   "source": [
    "import datetime \n",
    "\n",
    "# Get current date\n",
    "date = datetime.datetime.now()\n",
    "\n",
    "# Get the timestamps from 2 weeks ago\n",
    "\n",
    "two_weeks_ago = date - datetime.timedelta(weeks=2)\n",
    "two_weeks_ago_timestamp = int(two_weeks_ago.timestamp())"
   ]
  },
  {
   "cell_type": "code",
   "execution_count": null,
   "metadata": {},
   "outputs": [],
   "source": [
    "two_weeks_ago_timestamp"
   ]
  },
  {
   "cell_type": "code",
   "execution_count": null,
   "metadata": {},
   "outputs": [],
   "source": [
    "ORGS_TO_PROCESS = [\n",
    "    \"\"\n",
    "]"
   ]
  },
  {
   "cell_type": "code",
   "execution_count": null,
   "metadata": {},
   "outputs": [],
   "source": [
    "# Fetch all tasks that don't have a flag set or where flag is None\n",
    "tasks = list(\n",
    "    db.tasks.find(\n",
    "        {\n",
    "            \"$and\": [\n",
    "                {\"$or\": [{\"flag\": {\"$exists\": False}}, {\"flag\": None}]},\n",
    "                # {\"created_at\": {\"$gte\": two_weeks_ago_timestamp}},\n",
    "                {\"org_id\": {\"$in\": ORGS_TO_PROCESS}}\n",
    "            ]\n",
    "        }\n",
    "    )\n",
    ")"
   ]
  },
  {
   "cell_type": "code",
   "execution_count": null,
   "metadata": {},
   "outputs": [],
   "source": [
    "len(tasks)"
   ]
  },
  {
   "cell_type": "code",
   "execution_count": null,
   "metadata": {},
   "outputs": [],
   "source": [
    "import requests\n",
    "from tqdm import tqdm\n",
    "\n",
    "# Call the extractor API on every task\n",
    "\n",
    "# for task in tqdm(tasks):\n",
    "#     if \"_id\" in task:\n",
    "#         task.pop(\"_id\")\n",
    "#     response = requests.post(\n",
    "#         f\"{os.getenv('EXTRACTOR_URL')}/v1/pipelines/main/task\",\n",
    "#         json={\"task\": task},\n",
    "#         headers={\n",
    "#             \"Content-Type\": \"application/json\",\n",
    "#             \"Authorization\": f\"Bearer {os.getenv('EXTRACTOR_SECRET_KEY')}\",\n",
    "#         },\n",
    "#     )\n",
    "\n",
    "# Rewrite this code to be able to run it in parallel\n",
    "\n",
    "import concurrent.futures\n",
    "\n",
    "def process_task(task):\n",
    "    if \"_id\" in task:\n",
    "        task.pop(\"_id\")\n",
    "    response = requests.post(\n",
    "        f\"{os.getenv('EXTRACTOR_URL')}/v1/pipelines/eval/task\",\n",
    "        json={\"task\": task, \"save_results\": True},\n",
    "        headers={\n",
    "            \"Content-Type\": \"application/json\",\n",
    "            \"Authorization\": f\"Bearer {os.getenv('EXTRACTOR_SECRET_KEY')}\",\n",
    "        },\n",
    "    )\n",
    "    return response\n",
    "\n",
    "with concurrent.futures.ThreadPoolExecutor() as executor:\n",
    "    results = list(executor.map(process_task, tasks))\n",
    "\n",
    "results\n"
   ]
  },
  {
   "cell_type": "code",
   "execution_count": null,
   "metadata": {},
   "outputs": [],
   "source": []
  }
 ],
 "metadata": {
  "kernelspec": {
   "display_name": "phospho-env-min",
   "language": "python",
   "name": "python3"
  },
  "language_info": {
   "codemirror_mode": {
    "name": "ipython",
    "version": 3
   },
   "file_extension": ".py",
   "mimetype": "text/x-python",
   "name": "python",
   "nbconvert_exporter": "python",
   "pygments_lexer": "ipython3",
   "version": "3.11.7"
  }
 },
 "nbformat": 4,
 "nbformat_minor": 2
}
