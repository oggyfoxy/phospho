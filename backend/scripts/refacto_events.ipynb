{
 "cells": [
  {
   "cell_type": "markdown",
   "metadata": {},
   "source": [
    "# Refacto events\n",
    "\n",
    "- Add id, project_id, and org_id to EventDefinition\n",
    "- Create a separate collection EventDefinition\n",
    "- Resolve the Events to their EventDefinition based on their name"
   ]
  },
  {
   "cell_type": "code",
   "execution_count": null,
   "metadata": {},
   "outputs": [],
   "source": [
    "# Set current working dir\n",
    "import os\n",
    "from dotenv import load_dotenv\n",
    "\n",
    "# Path with .env\n",
    "os.chdir(\"/Users/nicolasoulianov/phospho/phospho/backend/scripts\")\n",
    "\n",
    "load_dotenv()"
   ]
  },
  {
   "cell_type": "code",
   "execution_count": null,
   "metadata": {},
   "outputs": [],
   "source": [
    "import pymongo\n",
    "\n",
    "URL = os.getenv('MONGODB_URL')\n",
    "DB = os.getenv('MONGODB_NAME')\n",
    "\n",
    "# Initialize pymongo client\n",
    "client = pymongo.MongoClient(URL)\n",
    "db = client[DB]\n",
    "\n",
    "DB"
   ]
  },
  {
   "cell_type": "markdown",
   "metadata": {},
   "source": [
    "## Add id, project_id, org_id to EventDefinition"
   ]
  },
  {
   "cell_type": "code",
   "execution_count": null,
   "metadata": {},
   "outputs": [],
   "source": [
    "from phospho.models import EventDefinition\n",
    "from phospho.utils import generate_uuid\n",
    "from copy import deepcopy\n",
    "\n",
    "# settings.events is a Dict[str, EventDefinition]\n",
    "# Change the EventDefinition to add an id, project_id and org_id \n",
    "\n",
    "projects = list(db[\"projects\"].find())\n",
    "\n",
    "for project in projects:\n",
    "    event_definitions = project.get(\"settings\", {}).get(\"events\", {})\n",
    "    old_event_definitions = deepcopy(event_definitions)\n",
    "    print(f\"Updating project with {len(event_definitions)} events\")\n",
    "    for event_name, event_definition in event_definitions.items():\n",
    "        if \"id\" not in event_definition:\n",
    "            event_definition[\"id\"] = generate_uuid()\n",
    "            print(f\"Updating event {event_name} with id {event_definition['id']}\")\n",
    "        if \"project_id\" not in event_definition:\n",
    "            event_definition[\"project_id\"] = project[\"id\"]\n",
    "            print(f\"Updating event {event_name} with project_id {event_definition['project_id']}\")\n",
    "        if \"org_id\" not in event_definition:\n",
    "            event_definition[\"org_id\"] = project[\"org_id\"]\n",
    "            print(f\"Updating event {event_name} with org_id {event_definition['org_id']}\")\n",
    "    if event_definitions != old_event_definitions:\n",
    "        db[\"projects\"].update_one({\"id\": project[\"id\"]}, {\"$set\": {\"settings.events\": event_definitions}})\n"
   ]
  },
  {
   "cell_type": "markdown",
   "metadata": {},
   "source": [
    "## Create a separate collection EventDefinition"
   ]
  },
  {
   "cell_type": "code",
   "execution_count": null,
   "metadata": {},
   "outputs": [],
   "source": [
    "# Create a separate EventDefinition collection with the same data\n",
    "\n",
    "projects = list(db[\"projects\"].find())\n",
    "\n",
    "all_event_definitions = []\n",
    "for project in projects:\n",
    "    event_definitions = project.get(\"settings\", {}).get(\"events\", {})\n",
    "    for event_name, event_definition in event_definitions.items():\n",
    "        all_event_definitions.append(event_definition)\n",
    "\n",
    "db[\"event_definitions\"].insert_many(all_event_definitions)"
   ]
  },
  {
   "cell_type": "code",
   "execution_count": null,
   "metadata": {},
   "outputs": [],
   "source": [
    "# When fetching a project, now your need to get the event definitions in a separate collection\n",
    "\n",
    "# project = db[\"projects\"].aggregate(\n",
    "#     [\n",
    "#         {\"$match\": {\"id\": \"3dffe45d7c1044eaa11ac4c0e1b082c8\"}},\n",
    "#         {\n",
    "#             \"$lookup\": {\n",
    "#                 \"from\": \"event_definitions\",\n",
    "#                 \"localField\": \"id\",\n",
    "#                 \"foreignField\": \"project_id\",\n",
    "#                 \"as\": \"settings.events\",\n",
    "#             }\n",
    "#         },\n",
    "#         # The lookup operation turns the events into an array of EventDefinitions\n",
    "#         # Convert into a Mapping {eventName: EventDefinition}\n",
    "#         {\n",
    "#             \"$addFields\": {\n",
    "#                 \"items\": {\n",
    "#                     \"$arrayToObject\": {\n",
    "#                         \"$map\": {\n",
    "#                             \"input\": \"$settings.events\",\n",
    "#                             \"as\": \"item\",\n",
    "#                             \"in\": {\"k\": \"$$item.event_name\", \"v\": \"$$item\"},\n",
    "#                         }\n",
    "#                     }\n",
    "#                 }\n",
    "#             }\n",
    "#         },\n",
    "#     ]\n",
    "# )\n",
    "\n",
    "# list(project)"
   ]
  },
  {
   "cell_type": "markdown",
   "metadata": {},
   "source": [
    "## Resolve the Events to their EventDefinition"
   ]
  },
  {
   "cell_type": "code",
   "execution_count": 11,
   "metadata": {},
   "outputs": [
    {
     "name": "stderr",
     "output_type": "stream",
     "text": [
      "0it [00:00, ?it/s]\n"
     ]
    }
   ],
   "source": [
    "from phospho.models import Event\n",
    "from tqdm import tqdm\n",
    "# Each event has a .event_definition field, which is a copy of the old EventDefinition\n",
    "# Update it so that now it has the latest version of the EventDefinition. Do the matching based on the event.event_name and event.project_id\n",
    "\n",
    "events = list(db[\"events\"].find(\n",
    "    {\n",
    "        \"removed\": {\"$ne\": True},\n",
    "        \"$or\": [\n",
    "            {\"event_definition\": {\"$exists\": False}},\n",
    "            {\"event_definition.id\": {\"$exists\": False}},\n",
    "            {\"event_definition.project_id\": {\"$exists\": False}},\n",
    "            {\"event_definition.org_id\": {\"$exists\": False}},\n",
    "        ]\n",
    "    }\n",
    "))\n",
    "\n",
    "\n",
    "for event in tqdm(events):\n",
    "    event_definition_in_event = event.get(\"event_definition\")\n",
    "    if event.get(\"removed\") and event.get(\"removal_reason\") is None:\n",
    "        db[\"events\"].update_one(\n",
    "            {\"id\": event[\"id\"]},\n",
    "            {\n",
    "                \"$set\": {\n",
    "                    \"removed\": True,\n",
    "                    \"removal_reason\": \"removed_by_user\",\n",
    "                },\n",
    "            },\n",
    "        )\n",
    "    if (\n",
    "        event_definition_in_event\n",
    "        and \"id\" in event_definition_in_event\n",
    "        and (\n",
    "            \"project_id\" not in event_definition_in_event\n",
    "            or \"org_id\" not in event_definition_in_event\n",
    "        )\n",
    "    ):\n",
    "        print(f\"Updating event with missing project_id and org_id\")\n",
    "        org_id = event[\"org_id\"]\n",
    "        project_id = event[\"project_id\"]\n",
    "        db[\"events\"].update_one(\n",
    "            {\"id\": event[\"id\"]},\n",
    "            {\n",
    "                \"$set\": {\n",
    "                    \"event_definition.org_id\": org_id,\n",
    "                    \"event_definition.project_id\": project_id,\n",
    "                },\n",
    "            },\n",
    "        )\n",
    "\n",
    "    if (\n",
    "        not event_definition_in_event\n",
    "        or \"id\" not in event_definition_in_event\n",
    "    ):\n",
    "        event_definition = db[\"event_definitions\"].find_one(\n",
    "            {\"event_name\": event[\"event_name\"], \"project_id\": event[\"project_id\"]}\n",
    "        )\n",
    "        if not event_definition:\n",
    "            if event.get(\"removed\") and event.get(\"removal_reason\") == \"removed_by_script\":\n",
    "                continue\n",
    "            else:\n",
    "                print(f\"Event {event['id']} has no matching event definition. Mark as removed\")\n",
    "                db[\"events\"].update_one(\n",
    "                    {\"id\": event[\"id\"]},\n",
    "                    {\n",
    "                        \"$set\": {\n",
    "                            \"removed\": True,\n",
    "                            \"removal_reason\": \"removed_by_script\",\n",
    "                        },\n",
    "                    },\n",
    "                )\n",
    "                continue\n",
    "        else:\n",
    "            print(f\"Updating event with missing event_definition\")\n",
    "            db[\"events\"].update_one(\n",
    "                {\"id\": event[\"id\"]}, {\"$set\": {\"event_definition\": event_definition}}\n",
    "            )\n",
    "    else:\n",
    "        print(f\"Event {event['id']} already has a proper event definition\")"
   ]
  },
  {
   "cell_type": "code",
   "execution_count": null,
   "metadata": {},
   "outputs": [],
   "source": []
  }
 ],
 "metadata": {
  "kernelspec": {
   "display_name": "phospho-env-min",
   "language": "python",
   "name": "python3"
  },
  "language_info": {
   "codemirror_mode": {
    "name": "ipython",
    "version": 3
   },
   "file_extension": ".py",
   "mimetype": "text/x-python",
   "name": "python",
   "nbconvert_exporter": "python",
   "pygments_lexer": "ipython3",
   "version": "3.11.7"
  }
 },
 "nbformat": 4,
 "nbformat_minor": 2
}
